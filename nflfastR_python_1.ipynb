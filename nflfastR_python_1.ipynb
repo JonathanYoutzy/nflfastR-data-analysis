{
 "cells": [
  {
   "cell_type": "code",
   "execution_count": null,
   "metadata": {},
   "outputs": [],
   "source": [
    "import pandas as pd\n",
    "import nflfastpy as nfl\n",
    "import seaborn as sns\n",
    "import matplotlib.pyplot as plt\n",
    "\n",
    "import requests\n",
    "from io import BytesIO"
   ]
  },
  {
   "cell_type": "code",
   "execution_count": null,
   "metadata": {},
   "outputs": [],
   "source": [
    "df = nfl.load_pbp_data(2021)\n",
    "\n",
    "df.head()"
   ]
  },
  {
   "cell_type": "code",
   "execution_count": null,
   "metadata": {},
   "outputs": [],
   "source": [
    "df.groupby('posteam')[['epa']].mean().sort_values(by = 'epa', ascending = False)"
   ]
  },
  {
   "cell_type": "code",
   "execution_count": null,
   "metadata": {},
   "outputs": [],
   "source": [
    "qbs = df.groupby(['passer_player_id', 'passer_player_name'], \n",
    "                as_index=False).agg({'play_id': 'count', 'epa': 'mean', 'cpoe': 'mean'})\n",
    "\n",
    "qbs = qbs.loc[qbs.play_id > 199]\n",
    "\n",
    "qbs.sort_values('epa', ascending=False, inplace=True)\n",
    "\n",
    "qbs = qbs.round(2)\n",
    "\n",
    "qbs.columns = ['ID', 'Player', 'Dropbacks', 'EPA', 'CPOE']\n",
    "\n",
    "qbs"
   ]
  },
  {
   "cell_type": "code",
   "execution_count": null,
   "metadata": {},
   "outputs": [],
   "source": [
    "df_passes = df.loc[(df['pass_attempt']==1) & (df['air_yards'].notnull()) & (df['down'].isin([3,4]))]\n",
    "\n",
    "df_passes = df_passes[['passer_player_id', 'passer_player_name', 'posteam', 'down', 'ydstogo', 'air_yards']]\n",
    "\n",
    "df_passes['yards_past_sticks'] = df_passes['air_yards'] - df_passes['ydstogo']\n",
    "\n",
    "df_passes.head(10)"
   ]
  },
  {
   "cell_type": "code",
   "execution_count": null,
   "metadata": {},
   "outputs": [],
   "source": [
    "top_10 = df_passes.groupby(['passer_player_id', 'passer_player_name', 'posteam'], \n",
    "            as_index=False)['yards_past_sticks'].sum().sort_values(by='yards_past_sticks', ascending=False)[:10]\n",
    "\n",
    "df_passes = df_passes.loc[df['passer_player_id'].isin(top_10['passer_player_id'])]\n",
    "\n",
    "df_passes.head(10)"
   ]
  },
  {
   "cell_type": "code",
   "execution_count": null,
   "metadata": {},
   "outputs": [],
   "source": [
    "team_logos_colors = nfl.load_team_logo_data()\n",
    "\n",
    "df_passes = df_passes.merge(team_logos_colors[['team_abbr', 'team_color', 'team_color2']].\n",
    "            rename(columns = {'team_abbr': 'posteam'}), on='posteam')\n",
    "\n",
    "df_passes"
   ]
  },
  {
   "cell_type": "code",
   "execution_count": null,
   "metadata": {},
   "outputs": [],
   "source": [
    "fig, ax = plt.subplots(5,2,figsize = (10,15))\n",
    "\n",
    "flatten = lambda t: [item for sublist in t for item in sublist]\n",
    "\n",
    "axes = flatten(ax)\n",
    "\n",
    "players = [group[-1] for group in df_passes.groupby('passer_player_id')]\n",
    "\n",
    "for ax, player_df in zip(axes, players):\n",
    "    sns.kdeplot(player_df['yards_past_sticks'], ax = ax, lw = 4, color = player_df['team_color'].values[0])\n",
    "\n",
    "    xy = ax.get_lines()[0].get_xydata()\n",
    "    x, y = xy[:, 0], xy[:, 1]\n",
    "    ax.fill_between(x,y,color = player_df['team_color'].values[0], alpha = 0.4)\n",
    "\n",
    "    ax.set_yticks([0, 0.05, 0.1])\n",
    "\n",
    "    passer_player_name = player_df['passer_player_name'].values[0]\n",
    "    ax.set_title(f'\\n{passer_player_name}', fontsize = 16, fontweight = 450)\n",
    "\n",
    "    ax.set_ylim(bottom = 0, top = 0.1)\n",
    "    ax.set_xlim(left = -15, right = 40)\n",
    "\n",
    "    fig.suptitle(\"Top 10 QBs in Yards Past Sticks in 2021\", fontsize = 18)\n",
    "\n",
    "    fig.tight_layout()\n",
    "\n",
    "    fig.subplots_adjust(top = 0.92)\n",
    "\n",
    "    fig.set_facecolor('white')"
   ]
  }
 ],
 "metadata": {
  "interpreter": {
   "hash": "7686bd252d22a8835d6af0e6b6baaabd3313b6bfe139b2a5dc18d7f38cd70e9c"
  },
  "kernelspec": {
   "display_name": "Python 3.9.7 ('base')",
   "language": "python",
   "name": "python3"
  },
  "language_info": {
   "codemirror_mode": {
    "name": "ipython",
    "version": 3
   },
   "file_extension": ".py",
   "mimetype": "text/x-python",
   "name": "python",
   "nbconvert_exporter": "python",
   "pygments_lexer": "ipython3",
   "version": "3.9.7"
  },
  "orig_nbformat": 4
 },
 "nbformat": 4,
 "nbformat_minor": 2
}
